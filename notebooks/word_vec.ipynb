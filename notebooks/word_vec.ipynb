{
 "cells": [
  {
   "cell_type": "markdown",
   "metadata": {},
   "source": [
    "## Creating the word vector dict"
   ]
  },
  {
   "cell_type": "code",
   "execution_count": null,
   "metadata": {},
   "outputs": [],
   "source": [
    "word_vec_dict= {}\n",
    "with open (r\"C:\\Users\\tonyr\\Downloads\\wiki.en-300.vec\", \"rb\") as f:\n",
    "    lines = [x.decode('utf8').strip() for x in f.readlines()]\n",
    "    for vector_pair in lines:\n",
    "        vector = []\n",
    "        word = vector_pair.split(\" \")[0]\n",
    "        for vec in vector_pair.split(\" \")[1:]:\n",
    "            try:\n",
    "                vector.append(float(vec))\n",
    "            except:\n",
    "                pass\n",
    "        #vector = [float(vec) for vec in vector_pair.split(\" \")[1:]]\n",
    "        word_vec_dict[word] = vector"
   ]
  },
  {
   "cell_type": "code",
   "execution_count": 20,
   "metadata": {},
   "outputs": [],
   "source": [
    "for word in word_vec_dict.keys():\n",
    "    print(len(word_vec_dict[word]))"
   ]
  },
  {
   "cell_type": "code",
   "execution_count": null,
   "metadata": {},
   "outputs": [],
   "source": []
  }
 ],
 "metadata": {
  "kernelspec": {
   "display_name": "Python 3",
   "language": "python",
   "name": "python3"
  },
  "language_info": {
   "codemirror_mode": {
    "name": "ipython",
    "version": 3
   },
   "file_extension": ".py",
   "mimetype": "text/x-python",
   "name": "python",
   "nbconvert_exporter": "python",
   "pygments_lexer": "ipython3",
   "version": "3.7.6"
  }
 },
 "nbformat": 4,
 "nbformat_minor": 4
}
