{
 "cells": [
  {
   "cell_type": "markdown",
   "metadata": {},
   "source": [
    "# Extract English source sentences for NER\n",
    "\n",
    "___"
   ]
  },
  {
   "cell_type": "code",
   "execution_count": 37,
   "metadata": {},
   "outputs": [],
   "source": [
    "import pandas as pd"
   ]
  },
  {
   "cell_type": "code",
   "execution_count": 38,
   "metadata": {},
   "outputs": [],
   "source": [
    "en_de = pd.read_csv(\"input/train.ende.df.short.tsv\", sep='\\t', index_col=\"index\")"
   ]
  },
  {
   "cell_type": "code",
   "execution_count": 39,
   "metadata": {},
   "outputs": [
    {
     "data": {
      "text/html": [
       "<div>\n",
       "<style scoped>\n",
       "    .dataframe tbody tr th:only-of-type {\n",
       "        vertical-align: middle;\n",
       "    }\n",
       "\n",
       "    .dataframe tbody tr th {\n",
       "        vertical-align: top;\n",
       "    }\n",
       "\n",
       "    .dataframe thead th {\n",
       "        text-align: right;\n",
       "    }\n",
       "</style>\n",
       "<table border=\"1\" class=\"dataframe\">\n",
       "  <thead>\n",
       "    <tr style=\"text-align: right;\">\n",
       "      <th></th>\n",
       "      <th>original</th>\n",
       "      <th>translation</th>\n",
       "      <th>scores</th>\n",
       "      <th>mean</th>\n",
       "      <th>z_scores</th>\n",
       "      <th>z_mean</th>\n",
       "      <th>model_scores</th>\n",
       "    </tr>\n",
       "    <tr>\n",
       "      <th>index</th>\n",
       "      <th></th>\n",
       "      <th></th>\n",
       "      <th></th>\n",
       "      <th></th>\n",
       "      <th></th>\n",
       "      <th></th>\n",
       "      <th></th>\n",
       "    </tr>\n",
       "  </thead>\n",
       "  <tbody>\n",
       "    <tr>\n",
       "      <th>0</th>\n",
       "      <td>José Ortega y Gasset visited Husserl at Freibu...</td>\n",
       "      <td>1934 besuchte José Ortega y Gasset Husserl in ...</td>\n",
       "      <td>[100, 100, 100]</td>\n",
       "      <td>100.0</td>\n",
       "      <td>[0.9553316582231767, 1.5523622744336512, 0.850...</td>\n",
       "      <td>1.119409</td>\n",
       "      <td>-0.102446</td>\n",
       "    </tr>\n",
       "    <tr>\n",
       "      <th>1</th>\n",
       "      <td>However, a disappointing ninth in China meant ...</td>\n",
       "      <td>Eine enttäuschende Neunte in China bedeutete j...</td>\n",
       "      <td>[61, 70, 87]</td>\n",
       "      <td>72.66666666666667</td>\n",
       "      <td>[-1.1951539386222017, 0.04217636328434989, -0....</td>\n",
       "      <td>-0.488591</td>\n",
       "      <td>-0.431046</td>\n",
       "    </tr>\n",
       "    <tr>\n",
       "      <th>2</th>\n",
       "      <td>In his diary, Chase wrote that the release of ...</td>\n",
       "      <td>In seinem Tagebuch, Chase schrieb, dass die Ve...</td>\n",
       "      <td>[52, 45, 49]</td>\n",
       "      <td>48.666666666666664</td>\n",
       "      <td>[-1.6914198455865197, -1.2163118960067345, -3....</td>\n",
       "      <td>-2.207007</td>\n",
       "      <td>-0.351719</td>\n",
       "    </tr>\n",
       "    <tr>\n",
       "      <th>3</th>\n",
       "      <td>Heavy arquebuses mounted on wagons were called...</td>\n",
       "      <td>Schwere Arquebuses auf Waggons montiert wurden...</td>\n",
       "      <td>[61, 55, 85]</td>\n",
       "      <td>67.0</td>\n",
       "      <td>[-1.1951539386222017, -0.7129165922903007, -0....</td>\n",
       "      <td>-0.799946</td>\n",
       "      <td>-0.432696</td>\n",
       "    </tr>\n",
       "    <tr>\n",
       "      <th>4</th>\n",
       "      <td>Once North Pacific salmon die off after spawni...</td>\n",
       "      <td>Sobald der nordpazifische Lachs nach dem Laich...</td>\n",
       "      <td>[91, 89, 87]</td>\n",
       "      <td>89.0</td>\n",
       "      <td>[0.45906575125885857, 0.998627440345574, -0.31...</td>\n",
       "      <td>0.381633</td>\n",
       "      <td>-0.392975</td>\n",
       "    </tr>\n",
       "  </tbody>\n",
       "</table>\n",
       "</div>"
      ],
      "text/plain": [
       "                                                original  \\\n",
       "index                                                      \n",
       "0      José Ortega y Gasset visited Husserl at Freibu...   \n",
       "1      However, a disappointing ninth in China meant ...   \n",
       "2      In his diary, Chase wrote that the release of ...   \n",
       "3      Heavy arquebuses mounted on wagons were called...   \n",
       "4      Once North Pacific salmon die off after spawni...   \n",
       "\n",
       "                                             translation           scores  \\\n",
       "index                                                                       \n",
       "0      1934 besuchte José Ortega y Gasset Husserl in ...  [100, 100, 100]   \n",
       "1      Eine enttäuschende Neunte in China bedeutete j...     [61, 70, 87]   \n",
       "2      In seinem Tagebuch, Chase schrieb, dass die Ve...     [52, 45, 49]   \n",
       "3      Schwere Arquebuses auf Waggons montiert wurden...     [61, 55, 85]   \n",
       "4      Sobald der nordpazifische Lachs nach dem Laich...     [91, 89, 87]   \n",
       "\n",
       "                     mean                                           z_scores  \\\n",
       "index                                                                          \n",
       "0                   100.0  [0.9553316582231767, 1.5523622744336512, 0.850...   \n",
       "1       72.66666666666667  [-1.1951539386222017, 0.04217636328434989, -0....   \n",
       "2      48.666666666666664  [-1.6914198455865197, -1.2163118960067345, -3....   \n",
       "3                    67.0  [-1.1951539386222017, -0.7129165922903007, -0....   \n",
       "4                    89.0  [0.45906575125885857, 0.998627440345574, -0.31...   \n",
       "\n",
       "         z_mean  model_scores  \n",
       "index                          \n",
       "0      1.119409     -0.102446  \n",
       "1     -0.488591     -0.431046  \n",
       "2     -2.207007     -0.351719  \n",
       "3     -0.799946     -0.432696  \n",
       "4      0.381633     -0.392975  "
      ]
     },
     "execution_count": 39,
     "metadata": {},
     "output_type": "execute_result"
    }
   ],
   "source": [
    "en_de.head()"
   ]
  },
  {
   "cell_type": "code",
   "execution_count": 40,
   "metadata": {},
   "outputs": [],
   "source": [
    "en_de = en_de.head(100)"
   ]
  },
  {
   "cell_type": "markdown",
   "metadata": {},
   "source": [
    "**Extract only first 100 lines. Put these in `train_en.txt`**"
   ]
  },
  {
   "cell_type": "code",
   "execution_count": 41,
   "metadata": {},
   "outputs": [],
   "source": [
    "with open(\"tmp/train_en.txt\", \"w\", encoding='utf-8') as f:\n",
    "    for index, row in en_de.iterrows():\n",
    "        f.write(row.original + '\\n')"
   ]
  },
  {
   "cell_type": "markdown",
   "metadata": {},
   "source": [
    "# Swapping NE's with NEXXX\n"
   ]
  },
  {
   "cell_type": "code",
   "execution_count": 42,
   "metadata": {
    "scrolled": true
   },
   "outputs": [],
   "source": [
    "#Import SpaCy\n",
    "import spacy\n",
    "from spacy import displacy\n",
    "from collections import Counter\n",
    "nlp = spacy.load(\"en_core_web_sm\")"
   ]
  },
  {
   "cell_type": "code",
   "execution_count": 43,
   "metadata": {},
   "outputs": [],
   "source": [
    "#Instantiate a dictionary\n",
    "d={}\n",
    "\n",
    "#List of NE's we want:\n",
    "named_entity_labels = [\"PERSON\", \"ORG\", \"PRODUCT\", \"LOC\", \"WORK_OF_ART\"]\n",
    "\n",
    "FILE = \"tmp/train_en.txt\"\n",
    "#Read our lines and put NE's in dictionary:\n",
    "with open(FILE, \"r\", encoding='utf-8') as f:\n",
    "    i = 0\n",
    "    j = 1\n",
    "    for line in f:\n",
    "        doc=nlp(line)\n",
    "        for X in doc.ents:\n",
    "            if X.label_ in named_entity_labels:\n",
    "                l = len(str(X))\n",
    "                k = str(j) + ((l -(2 + len(str(j)))) * \"*\")\n",
    "                d[X.text] = (\"NE{}\".format(k),\"{}\".format(i),(\"{}\".format(X.start_char), \"{}\".format(X.end_char)))\n",
    "                j+=1\n",
    "        i+=1\n",
    "    f.close()"
   ]
  },
  {
   "cell_type": "markdown",
   "metadata": {},
   "source": [
    "# We have a dictionary of NE's\n",
    "**This dictionary contains:**<br>\n",
    "1) The English Source<br>\n",
    "2) The NEXXX value it will receive<br>\n",
    "3) The line number it is in<br>\n",
    "4) The start and end letter of that name in terms of the sentence."
   ]
  },
  {
   "cell_type": "code",
   "execution_count": 44,
   "metadata": {},
   "outputs": [],
   "source": [
    "#Open a new file.\n",
    "#read from old file.\n",
    "#For each sentence, match the sentence index with the NE's sentence number in the dictionary\n",
    "#If they match, let the start and end position of that NE within the sentence be equal to NEXXX\n",
    "#Write this altered sentence to the new file\n",
    "\n",
    "#FOR EXAMPLE:\n",
    "#             source = \"José Ortega y Gasset visited Husserl at Freiburg in 1934.\"\n",
    "#             target = \"NE1***************** visited NE2**** at Freiburg in 1934\"\n",
    "\n",
    "FILE=\"tmp/train_en.txt\"\n",
    "FILE2=\"output/train_en_swapped_ne.txt\"\n",
    "with open(FILE2, \"w\", encoding='utf-8') as f2:\n",
    "    with open(FILE, \"r\", encoding='utf-8')as f:\n",
    "        line_tracker = 0\n",
    "        lines = f.readlines()\n",
    "        for line in lines:\n",
    "            line = line.strip('\\n')\n",
    "            for entry in d:\n",
    "                if(int(d[entry][1]) == line_tracker):\n",
    "                    start, stop = int(d[entry][2][0]), int(d[entry][2][1])\n",
    "                    before, after = line[0:start], line[stop+1:]\n",
    "                    line = \" \".join([before, d[entry][0], after])\n",
    "            f2.write(line + \"\\n\")\n",
    "            line_tracker+=1"
   ]
  },
  {
   "cell_type": "code",
   "execution_count": 45,
   "metadata": {},
   "outputs": [
    {
     "name": "stdout",
     "output_type": "stream",
     "text": [
      " NE1***************** visited NE2****  at Freiburg in 1934.\n",
      "\n",
      "However, a disappointing ninth in China meant that he dropped back to sixth in the standings.\n",
      "\n",
      "In his diary,  NE3** wrote that the release of NE4**  an NE5**** l \"…was like gall and wormwood to me.\n",
      "\n",
      "Heavy arquebuses mounted on wagons were called arquebus à croc.\n",
      "\n",
      "Once  NE6********** salmon die off after spawning, usually local bald eagles eat salmon carcasses almost exclusively.\n",
      "\n",
      "They engaged in crossfire at Guamaní River Bridge,  NE7** and Silva Heights and finally at NE8******************* .\n",
      "\n",
      "Several WHA teams courted  NE9****  notably NE10*******************  and the Birmingham Bulls.\n",
      "\n",
      "16  NE11****** in which redshirt freshman NE12*****  threw for 280 yards and three touchdowns in his first career start as Miami's quarterback.\n",
      "\n",
      "On 12 April 1983,  NE13********************************* designated the 69th Regiment Armory an official New York City landmark.\n",
      "\n",
      "After that, Chinese junks came to northern  NE14** with cargoes of spices, bird nests, shark fins, camphor, rattan and pearls.\n",
      "\n"
     ]
    }
   ],
   "source": [
    "#Here is the first few lines of output for you to see;\n",
    "\n",
    "with open(FILE2, \"r\", encoding='utf-8') as f:\n",
    "    i = 0\n",
    "    lines = f.readlines()\n",
    "    for i in range(0,10):\n",
    "        print(lines[i])"
   ]
  },
  {
   "cell_type": "code",
   "execution_count": null,
   "metadata": {},
   "outputs": [],
   "source": []
  }
 ],
 "metadata": {
  "kernelspec": {
   "display_name": "Python 3",
   "language": "python",
   "name": "python3"
  },
  "language_info": {
   "codemirror_mode": {
    "name": "ipython",
    "version": 3
   },
   "file_extension": ".py",
   "mimetype": "text/x-python",
   "name": "python",
   "nbconvert_exporter": "python",
   "pygments_lexer": "ipython3",
   "version": "3.8.3"
  }
 },
 "nbformat": 4,
 "nbformat_minor": 4
}
